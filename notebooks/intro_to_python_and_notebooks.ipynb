{
  "nbformat": 4,
  "nbformat_minor": 0,
  "metadata": {
    "colab": {
      "name": "intro_to_python_and_notebooks.ipynb",
      "version": "0.3.2",
      "provenance": [],
      "include_colab_link": true
    },
    "kernelspec": {
      "name": "python3",
      "display_name": "Python 3"
    },
    "accelerator": "GPU"
  },
  "cells": [
    {
      "cell_type": "markdown",
      "metadata": {
        "id": "view-in-github",
        "colab_type": "text"
      },
      "source": [
        "<a href=\"https://colab.research.google.com/github/tylerganter/FunInColaboratory/blob/master/notebooks/intro_to_python_and_notebooks.ipynb\" target=\"_parent\"><img src=\"https://colab.research.google.com/assets/colab-badge.svg\" alt=\"Open In Colab\"/></a>"
      ]
    },
    {
      "metadata": {
        "id": "Xlj9-YnHdhhN",
        "colab_type": "text"
      },
      "cell_type": "markdown",
      "source": [
        "# Hello and Welcome!"
      ]
    },
    {
      "metadata": {
        "id": "xDuJpn_4gdri",
        "colab_type": "code",
        "colab": {}
      },
      "cell_type": "code",
      "source": [
        "from IPython.display import clear_output\n",
        "clear_output()"
      ],
      "execution_count": 0,
      "outputs": []
    },
    {
      "metadata": {
        "id": "EP_PVffyUo65",
        "colab_type": "code",
        "outputId": "6e9a9aab-361d-4c5b-8b92-e20a99fdf553",
        "colab": {
          "base_uri": "https://localhost:8080/",
          "height": 51
        }
      },
      "cell_type": "code",
      "source": [
        "print('hey!')"
      ],
      "execution_count": 2,
      "outputs": [
        {
          "output_type": "stream",
          "text": [
            "hey!\n"
          ],
          "name": "stdout"
        },
        {
          "output_type": "execute_result",
          "data": {
            "text/plain": [
              "False"
            ]
          },
          "metadata": {
            "tags": []
          },
          "execution_count": 2
        }
      ]
    },
    {
      "metadata": {
        "id": "ei7hBmmTdmBk",
        "colab_type": "code",
        "colab": {}
      },
      "cell_type": "code",
      "source": [
        "!ls -ga"
      ],
      "execution_count": 0,
      "outputs": []
    },
    {
      "metadata": {
        "id": "VhZjsLUqdzcF",
        "colab_type": "code",
        "colab": {}
      },
      "cell_type": "code",
      "source": [
        "!ls .config\n",
        "!rm -r sample_data"
      ],
      "execution_count": 0,
      "outputs": []
    },
    {
      "metadata": {
        "id": "jI2d547rkPug",
        "colab_type": "text"
      },
      "cell_type": "markdown",
      "source": [
        "# Python Crash Course\n",
        "\n",
        "importing modules\n",
        "import os\n",
        "from os import path\n",
        "import os as other_name\n",
        "\n",
        "datatypes:\n",
        "int, float, string, boolean\n",
        "list, tuple, dictionary (maybe skip tuple)\n",
        "min, max, len, keys\n",
        "type()\n",
        "\n",
        "basic math operations\n",
        "\n",
        "if elif else statements\n",
        "for loops\n",
        "\n",
        "functions\n",
        "\n",
        "comparison operators and (and or not)\n",
        "\\> < >= <= == !=\n",
        "\n",
        "maybe not...\n",
        "None, is not None\n",
        "\n",
        "print\n",
        "\n",
        "\n",
        "\n"
      ]
    },
    {
      "metadata": {
        "id": "sqIQZx7Wd25C",
        "colab_type": "code",
        "colab": {}
      },
      "cell_type": "code",
      "source": [
        "!ls -ga"
      ],
      "execution_count": 0,
      "outputs": []
    },
    {
      "metadata": {
        "id": "HlthtN1Gh5kj",
        "colab_type": "text"
      },
      "cell_type": "markdown",
      "source": [
        "* Edit>Clear all outputs\n",
        "* Runtime>Restart Runtime\n",
        "* Runtime>Reset all runtimes\n",
        "* Runtime>Change runtime type"
      ]
    },
    {
      "metadata": {
        "id": "PWxESns6hZ-8",
        "colab_type": "text"
      },
      "cell_type": "markdown",
      "source": [
        "# uploading files...\n",
        "# saving notebooks..."
      ]
    },
    {
      "metadata": {
        "id": "HdG_VbzEhhpa",
        "colab_type": "code",
        "colab": {}
      },
      "cell_type": "code",
      "source": [
        ""
      ],
      "execution_count": 0,
      "outputs": []
    }
  ]
}