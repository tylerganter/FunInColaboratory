{
  "nbformat": 4,
  "nbformat_minor": 0,
  "metadata": {
    "colab": {
      "name": "intro_to_python_and_notebooks.ipynb",
      "version": "0.3.2",
      "provenance": [],
      "include_colab_link": true
    },
    "kernelspec": {
      "name": "python3",
      "display_name": "Python 3"
    }
  },
  "cells": [
    {
      "cell_type": "markdown",
      "metadata": {
        "id": "view-in-github",
        "colab_type": "text"
      },
      "source": [
        "<a href=\"https://colab.research.google.com/github/tylerganter/FunInColaboratory/blob/master/notebooks/intro_to_python_and_notebooks.ipynb\" target=\"_parent\"><img src=\"https://colab.research.google.com/assets/colab-badge.svg\" alt=\"Open In Colab\"/></a>"
      ]
    },
    {
      "metadata": {
        "id": "Xlj9-YnHdhhN",
        "colab_type": "text"
      },
      "cell_type": "markdown",
      "source": [
        "# Hello and Welcome!"
      ]
    },
    {
      "metadata": {
        "id": "EP_PVffyUo65",
        "colab_type": "code",
        "colab": {
          "base_uri": "https://localhost:8080/",
          "height": 34
        },
        "outputId": "ea2591ac-096e-4e03-f876-d46fda8ec61f"
      },
      "cell_type": "code",
      "source": [
        "print('hey!')"
      ],
      "execution_count": 1,
      "outputs": [
        {
          "output_type": "stream",
          "text": [
            "hey!\n"
          ],
          "name": "stdout"
        }
      ]
    },
    {
      "metadata": {
        "id": "ei7hBmmTdmBk",
        "colab_type": "code",
        "colab": {
          "base_uri": "https://localhost:8080/",
          "height": 102
        },
        "outputId": "b3c67d3e-1ca4-4100-a20f-fb93a0f20f10"
      },
      "cell_type": "code",
      "source": [
        "!ls -ga"
      ],
      "execution_count": 2,
      "outputs": [
        {
          "output_type": "stream",
          "text": [
            "total 16\n",
            "drwxr-xr-x 1 root 4096 Dec 10 17:34 .\n",
            "drwxr-xr-x 1 root 4096 Dec 16 23:59 ..\n",
            "drwxr-xr-x 1 root 4096 Dec 10 17:34 .config\n",
            "drwxr-xr-x 1 root 4096 Dec 10 17:34 sample_data\n"
          ],
          "name": "stdout"
        }
      ]
    },
    {
      "metadata": {
        "id": "VhZjsLUqdzcF",
        "colab_type": "code",
        "colab": {
          "base_uri": "https://localhost:8080/",
          "height": 34
        },
        "outputId": "19176c80-6f57-4435-81e0-7f138193e147"
      },
      "cell_type": "code",
      "source": [
        "!ls .config"
      ],
      "execution_count": 4,
      "outputs": [
        {
          "output_type": "stream",
          "text": [
            "active_config  config_sentinel\tconfigurations\tgce  logs\n"
          ],
          "name": "stdout"
        }
      ]
    },
    {
      "metadata": {
        "id": "sqIQZx7Wd25C",
        "colab_type": "code",
        "colab": {}
      },
      "cell_type": "code",
      "source": [
        ""
      ],
      "execution_count": 0,
      "outputs": []
    }
  ]
}